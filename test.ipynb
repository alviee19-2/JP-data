{
 "cells": [
  {
   "cell_type": "code",
   "execution_count": 8,
   "id": "965a6342",
   "metadata": {},
   "outputs": [],
   "source": [
    "import os\n",
    "import csv\n",
    "\n",
    "from ISIN import ISIN, FUND_NAME"
   ]
  },
  {
   "cell_type": "code",
   "execution_count": 6,
   "id": "ea0b3fa9",
   "metadata": {},
   "outputs": [],
   "source": [
    "out_path = os.path.join(\"funds_out.csv\")"
   ]
  },
  {
   "cell_type": "code",
   "execution_count": null,
   "id": "73111011",
   "metadata": {},
   "outputs": [],
   "source": [
    "with open(out_path, \"w\", encoding=\"utf-8-sig\") as file:\n",
    "    for i in range(1, 2):\n",
    "        reader = csv.reader(file)\n"
   ]
  },
  {
   "cell_type": "code",
   "execution_count": 23,
   "id": "a30339f6",
   "metadata": {},
   "outputs": [
    {
     "name": "stdout",
     "output_type": "stream",
     "text": [
      "['FUNDS_NAME1', 'ISIN1']\n",
      "[]\n",
      "['FUNDS_NAME2', 'ISIN2']\n",
      "[]\n",
      "['FUNDS_NAME3', 'ISIN3']\n",
      "[]\n"
     ]
    }
   ],
   "source": [
    "with open(out_path, \"r\", encoding=\"utf-8-sig\") as file:\n",
    "        reader = csv.reader(file)\n",
    "        for row in reader:\n",
    "            print(row)\n"
   ]
  },
  {
   "cell_type": "code",
   "execution_count": 29,
   "id": "438c014d",
   "metadata": {},
   "outputs": [],
   "source": [
    "with open(out_path, \"a\", newline=\"\",encoding=\"utf-8-sig\") as file:\n",
    "        writer = csv.writer(file)\n",
    "        for i in range(1, 4):\n",
    "            writer.writerow([f\"FUNDS_NAME{i}\",f\"ISIN{i}\"])\n",
    "                  \n",
    "                  "
   ]
  },
  {
   "cell_type": "code",
   "execution_count": 18,
   "id": "87e592ed",
   "metadata": {},
   "outputs": [
    {
     "name": "stdout",
     "output_type": "stream",
     "text": [
      "0\n"
     ]
    }
   ],
   "source": [
    "for i in range(0, 1):\n",
    "    print(i)"
   ]
  },
  {
   "cell_type": "code",
   "execution_count": null,
   "id": "ebcc2f52",
   "metadata": {},
   "outputs": [],
   "source": []
  }
 ],
 "metadata": {
  "kernelspec": {
   "display_name": "base",
   "language": "python",
   "name": "python3"
  },
  "language_info": {
   "codemirror_mode": {
    "name": "ipython",
    "version": 3
   },
   "file_extension": ".py",
   "mimetype": "text/x-python",
   "name": "python",
   "nbconvert_exporter": "python",
   "pygments_lexer": "ipython3",
   "version": "3.12.4"
  }
 },
 "nbformat": 4,
 "nbformat_minor": 5
}
